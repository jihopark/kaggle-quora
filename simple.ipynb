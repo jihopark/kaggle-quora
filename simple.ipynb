{
 "cells": [
  {
   "cell_type": "markdown",
   "metadata": {},
   "source": [
    "# Kaggle Quora Challenge"
   ]
  },
  {
   "cell_type": "markdown",
   "metadata": {},
   "source": [
    "## Data loading"
   ]
  },
  {
   "cell_type": "code",
   "execution_count": 1,
   "metadata": {
    "collapsed": false
   },
   "outputs": [],
   "source": [
    "import pandas as pd\n",
    "from tqdm import tqdm_notebook as tqdm\n",
    "import numpy as np\n",
    "import nltk"
   ]
  },
  {
   "cell_type": "code",
   "execution_count": 2,
   "metadata": {
    "collapsed": false
   },
   "outputs": [],
   "source": [
    "train = pd.read_csv(\"data/train.csv\", dtype={\"id\":np.int32, \"qid1\":np.int32, \"qid2\":np.int32, \"question1\":str, \"question2\":str, \"is_duplicate\":np.int32})"
   ]
  },
  {
   "cell_type": "code",
   "execution_count": 3,
   "metadata": {
    "collapsed": false
   },
   "outputs": [
    {
     "data": {
      "text/html": [
       "<div>\n",
       "<table border=\"1\" class=\"dataframe\">\n",
       "  <thead>\n",
       "    <tr style=\"text-align: right;\">\n",
       "      <th></th>\n",
       "      <th>id</th>\n",
       "      <th>qid1</th>\n",
       "      <th>qid2</th>\n",
       "      <th>question1</th>\n",
       "      <th>question2</th>\n",
       "      <th>is_duplicate</th>\n",
       "    </tr>\n",
       "  </thead>\n",
       "  <tbody>\n",
       "    <tr>\n",
       "      <th>count</th>\n",
       "      <td>404290.000000</td>\n",
       "      <td>404290.000000</td>\n",
       "      <td>404290.000000</td>\n",
       "      <td>404290</td>\n",
       "      <td>404288</td>\n",
       "      <td>404290.000000</td>\n",
       "    </tr>\n",
       "    <tr>\n",
       "      <th>unique</th>\n",
       "      <td>NaN</td>\n",
       "      <td>NaN</td>\n",
       "      <td>NaN</td>\n",
       "      <td>290457</td>\n",
       "      <td>299174</td>\n",
       "      <td>NaN</td>\n",
       "    </tr>\n",
       "    <tr>\n",
       "      <th>top</th>\n",
       "      <td>NaN</td>\n",
       "      <td>NaN</td>\n",
       "      <td>NaN</td>\n",
       "      <td>How do I improve my English speaking?</td>\n",
       "      <td>How can you look at someone's private Instagra...</td>\n",
       "      <td>NaN</td>\n",
       "    </tr>\n",
       "    <tr>\n",
       "      <th>freq</th>\n",
       "      <td>NaN</td>\n",
       "      <td>NaN</td>\n",
       "      <td>NaN</td>\n",
       "      <td>50</td>\n",
       "      <td>120</td>\n",
       "      <td>NaN</td>\n",
       "    </tr>\n",
       "    <tr>\n",
       "      <th>mean</th>\n",
       "      <td>202144.500000</td>\n",
       "      <td>217243.942418</td>\n",
       "      <td>220955.655337</td>\n",
       "      <td>NaN</td>\n",
       "      <td>NaN</td>\n",
       "      <td>0.369198</td>\n",
       "    </tr>\n",
       "    <tr>\n",
       "      <th>std</th>\n",
       "      <td>116708.614502</td>\n",
       "      <td>157751.700002</td>\n",
       "      <td>159903.182629</td>\n",
       "      <td>NaN</td>\n",
       "      <td>NaN</td>\n",
       "      <td>0.482588</td>\n",
       "    </tr>\n",
       "    <tr>\n",
       "      <th>min</th>\n",
       "      <td>0.000000</td>\n",
       "      <td>1.000000</td>\n",
       "      <td>2.000000</td>\n",
       "      <td>NaN</td>\n",
       "      <td>NaN</td>\n",
       "      <td>0.000000</td>\n",
       "    </tr>\n",
       "    <tr>\n",
       "      <th>25%</th>\n",
       "      <td>101072.250000</td>\n",
       "      <td>74437.500000</td>\n",
       "      <td>74727.000000</td>\n",
       "      <td>NaN</td>\n",
       "      <td>NaN</td>\n",
       "      <td>0.000000</td>\n",
       "    </tr>\n",
       "    <tr>\n",
       "      <th>50%</th>\n",
       "      <td>202144.500000</td>\n",
       "      <td>192182.000000</td>\n",
       "      <td>197052.000000</td>\n",
       "      <td>NaN</td>\n",
       "      <td>NaN</td>\n",
       "      <td>0.000000</td>\n",
       "    </tr>\n",
       "    <tr>\n",
       "      <th>75%</th>\n",
       "      <td>303216.750000</td>\n",
       "      <td>346573.500000</td>\n",
       "      <td>354692.500000</td>\n",
       "      <td>NaN</td>\n",
       "      <td>NaN</td>\n",
       "      <td>1.000000</td>\n",
       "    </tr>\n",
       "    <tr>\n",
       "      <th>max</th>\n",
       "      <td>404289.000000</td>\n",
       "      <td>537932.000000</td>\n",
       "      <td>537933.000000</td>\n",
       "      <td>NaN</td>\n",
       "      <td>NaN</td>\n",
       "      <td>1.000000</td>\n",
       "    </tr>\n",
       "  </tbody>\n",
       "</table>\n",
       "</div>"
      ],
      "text/plain": [
       "                   id           qid1           qid2  \\\n",
       "count   404290.000000  404290.000000  404290.000000   \n",
       "unique            NaN            NaN            NaN   \n",
       "top               NaN            NaN            NaN   \n",
       "freq              NaN            NaN            NaN   \n",
       "mean    202144.500000  217243.942418  220955.655337   \n",
       "std     116708.614502  157751.700002  159903.182629   \n",
       "min          0.000000       1.000000       2.000000   \n",
       "25%     101072.250000   74437.500000   74727.000000   \n",
       "50%     202144.500000  192182.000000  197052.000000   \n",
       "75%     303216.750000  346573.500000  354692.500000   \n",
       "max     404289.000000  537932.000000  537933.000000   \n",
       "\n",
       "                                    question1  \\\n",
       "count                                  404290   \n",
       "unique                                 290457   \n",
       "top     How do I improve my English speaking?   \n",
       "freq                                       50   \n",
       "mean                                      NaN   \n",
       "std                                       NaN   \n",
       "min                                       NaN   \n",
       "25%                                       NaN   \n",
       "50%                                       NaN   \n",
       "75%                                       NaN   \n",
       "max                                       NaN   \n",
       "\n",
       "                                                question2   is_duplicate  \n",
       "count                                              404288  404290.000000  \n",
       "unique                                             299174            NaN  \n",
       "top     How can you look at someone's private Instagra...            NaN  \n",
       "freq                                                  120            NaN  \n",
       "mean                                                  NaN       0.369198  \n",
       "std                                                   NaN       0.482588  \n",
       "min                                                   NaN       0.000000  \n",
       "25%                                                   NaN       0.000000  \n",
       "50%                                                   NaN       0.000000  \n",
       "75%                                                   NaN       1.000000  \n",
       "max                                                   NaN       1.000000  "
      ]
     },
     "execution_count": 3,
     "metadata": {},
     "output_type": "execute_result"
    }
   ],
   "source": [
    "train.describe(include=\"all\")"
   ]
  },
  {
   "cell_type": "code",
   "execution_count": 9,
   "metadata": {
    "collapsed": false
   },
   "outputs": [
    {
     "name": "stdout",
     "output_type": "stream",
     "text": [
      "\n"
     ]
    },
    {
     "data": {
      "text/plain": [
       "537932"
      ]
     },
     "execution_count": 9,
     "metadata": {},
     "output_type": "execute_result"
    }
   ],
   "source": [
    "questions = []\n",
    "ids = {}\n",
    "count = 0\n",
    "for i, row in tqdm(train.iterrows()):\n",
    "    if row[\"qid1\"] not in ids and row[\"question1\"] is not np.nan:\n",
    "        questions.append(row[\"question1\"])\n",
    "        ids[row[\"qid1\"]] = count\n",
    "        count += 1\n",
    "    if row[\"qid2\"] not in ids and row[\"question2\"] is not np.nan:\n",
    "        questions.append(row[\"question2\"])\n",
    "        ids[row[\"qid2\"]] = count\n",
    "        count += 1\n",
    "assert len(questions) == len(ids.keys())\n",
    "len(questions)    "
   ]
  },
  {
   "cell_type": "markdown",
   "metadata": {},
   "source": [
    "## tokenizer & stemmer"
   ]
  },
  {
   "cell_type": "code",
   "execution_count": 10,
   "metadata": {
    "collapsed": true
   },
   "outputs": [],
   "source": [
    "from nltk.stem.porter import PorterStemmer\n",
    "def tokenize(text):\n",
    "    tokens = nltk.word_tokenize(text)\n",
    "    stems = []\n",
    "    for item in tokens:\n",
    "        stems.append(PorterStemmer().stem(item))\n",
    "    return stems"
   ]
  },
  {
   "cell_type": "code",
   "execution_count": 11,
   "metadata": {
    "collapsed": false
   },
   "outputs": [
    {
     "name": "stdout",
     "output_type": "stream",
     "text": [
      "What is the step by step guide to invest in share market in india? => What is the step by step guid to invest in share market in india ?\n",
      "What is the step by step guide to invest in share market? => What is the step by step guid to invest in share market ?\n",
      "What is the story of Kohinoor (Koh-i-Noor) Diamond? => What is the stori of Kohinoor ( Koh-i-Noor ) Diamond ?\n",
      "What would happen if the Indian government stole the Kohinoor (Koh-i-Noor) diamond back? => What would happen if the Indian govern stole the Kohinoor ( Koh-i-Noor ) diamond back ?\n",
      "How can I increase the speed of my internet connection while using a VPN? => How can I increas the speed of my internet connect while use a VPN ?\n",
      "How can Internet speed be increased by hacking through DNS? => How can Internet speed be increas by hack through DN ?\n",
      "Why am I mentally very lonely? How can I solve it? => Whi am I mental veri lone ? How can I solv it ?\n",
      "Find the remainder when [math]23^{24}[/math] is divided by 24,23? => Find the remaind when [ math ] 23^ { 24 } [ /math ] is divid by 24,23 ?\n",
      "Which one dissolve in water quikly sugar, salt, methane and carbon di oxide? => Which one dissolv in water quikli sugar , salt , methan and carbon di oxid ?\n",
      "Which fish would survive in salt water? => Which fish would surviv in salt water ?\n",
      "Astrology: I am a Capricorn Sun Cap moon and cap rising...what does that say about me? => Astrolog : I am a Capricorn Sun Cap moon and cap rise ... what doe that say about me ?\n",
      "I'm a triple Capricorn (Sun, Moon and ascendant in Capricorn) What does this say about me? => I 'm a tripl Capricorn ( Sun , Moon and ascend in Capricorn ) What doe thi say about me ?\n",
      "Should I buy tiago? => Should I buy tiago ?\n",
      "What keeps childern active and far from phone and video games? => What keep childern activ and far from phone and video game ?\n",
      "How can I be a good geologist? => How can I be a good geologist ?\n",
      "What should I do to be a great geologist? => What should I do to be a great geologist ?\n",
      "When do you use シ instead of し? => When do you use シ instead of し ?\n",
      "When do you use \"&\" instead of \"and\"? => When do you use `` & '' instead of `` and '' ?\n",
      "Motorola (company): Can I hack my Charter Motorolla DCX3400? => Motorola ( compani ) : Can I hack my Charter Motorolla DCX3400 ?\n",
      "How do I hack Motorola DCX3400 for free internet? => How do I hack Motorola DCX3400 for free internet ?\n",
      "Method to find separation of slits using fresnel biprism? => Method to find separ of slit use fresnel biprism ?\n",
      "What are some of the things technicians can tell about the durability and reliability of Laptops and its components? => What are some of the thing technician can tell about the durabl and reliabl of Laptop and it compon ?\n",
      "How do I read and find my YouTube comments? => How do I read and find my YouTub comment ?\n",
      "How can I see all my Youtube comments? => How can I see all my Youtub comment ?\n",
      "What can make Physics easy to learn? => What can make Physic easi to learn ?\n",
      "How can you make physics easy to learn? => How can you make physic easi to learn ?\n",
      "What was your first sexual experience like? => What wa your first sexual experi like ?\n",
      "What was your first sexual experience? => What wa your first sexual experi ?\n",
      "What are the laws to change your status from a student visa to a green card in the US, how do they compare to the immigration laws in Canada? => What are the law to chang your statu from a student visa to a green card in the US , how do they compar to the immigr law in Canada ?\n",
      "What are the laws to change your status from a student visa to a green card in the US? How do they compare to the immigration laws in Japan? => What are the law to chang your statu from a student visa to a green card in the US ? How do they compar to the immigr law in Japan ?\n"
     ]
    }
   ],
   "source": [
    "for q in questions[:30]:\n",
    "    print(\"%s => %s\" % (q, \" \".join(tokenize(q))))"
   ]
  },
  {
   "cell_type": "markdown",
   "metadata": {},
   "source": [
    "## Evaluation"
   ]
  },
  {
   "cell_type": "code",
   "execution_count": 14,
   "metadata": {
    "collapsed": true
   },
   "outputs": [],
   "source": [
    "from sklearn.metrics.pairwise import cosine_similarity"
   ]
  },
  {
   "cell_type": "code",
   "execution_count": 18,
   "metadata": {
    "collapsed": true
   },
   "outputs": [],
   "source": [
    "def calculate_similarity(vectors, verbose=True):\n",
    "    sim = []\n",
    "    truth = []\n",
    "    for i, row in tqdm(train.iterrows()):\n",
    "        if row[\"qid1\"] in ids and row[\"qid2\"] in ids:\n",
    "            pred = cosine_similarity(vectors[ids[row[\"qid1\"]]], vectors[ids[row[\"qid2\"]]])\n",
    "            label = row[\"is_duplicate\"]\n",
    "            if verbose and i % 5000 == 0:\n",
    "                print(\"sim:%.3f label:%s 1.%s 2.%s\" % (pred, label, row[\"question1\"], row[\"question2\"]))\n",
    "            sim.append(pred)\n",
    "            truth.append(label)\n",
    "    return sim, truth"
   ]
  },
  {
   "cell_type": "markdown",
   "metadata": {},
   "source": [
    "## Tf-IDF"
   ]
  },
  {
   "cell_type": "code",
   "execution_count": 13,
   "metadata": {
    "collapsed": true
   },
   "outputs": [],
   "source": [
    "from sklearn.feature_extraction.text import TfidfVectorizer\n"
   ]
  },
  {
   "cell_type": "code",
   "execution_count": 12,
   "metadata": {
    "collapsed": false
   },
   "outputs": [],
   "source": [
    "tfidf_transformer = TfidfVectorizer(tokenizer=tokenize, decode_error=\"ignore\")\n",
    "questions_tfidf = tfidf_transformer.fit_transform(questions)"
   ]
  },
  {
   "cell_type": "code",
   "execution_count": 15,
   "metadata": {
    "collapsed": false
   },
   "outputs": [
    {
     "data": {
      "text/plain": [
       "(537932, 94321)"
      ]
     },
     "execution_count": 15,
     "metadata": {},
     "output_type": "execute_result"
    }
   ],
   "source": [
    "questions_tfidf.shape"
   ]
  },
  {
   "cell_type": "code",
   "execution_count": 19,
   "metadata": {
    "collapsed": false
   },
   "outputs": [
    {
     "name": "stdout",
     "output_type": "stream",
     "text": [
      "sim:0.974 label:0 1.What is the step by step guide to invest in share market in india? 2.What is the step by step guide to invest in share market?\n",
      "sim:0.868 label:1 1.How do you recharge a AA battery? 2.How can you recharge regular AA batteries?\n",
      "sim:0.784 label:0 1.Is it safe for a woman to travel alone in Vietnam? 2.Is it safe for a woman to travel alone in Japan?\n",
      "sim:0.924 label:1 1.What are the best sites to download movies? 2.Which are best sites to download movies?\n",
      "sim:0.050 label:0 1.What are the features of the Indian caste system? 2.What triggers you the most when you play video games?\n",
      "sim:0.981 label:0 1.Does the end justify the means, or does the means justify the end? 2.Does the end justify the means?\n",
      "sim:0.033 label:0 1.I am in my late 20's and I look older than I am. Need suggestions on best skincare products I can buy to begin with? 2.Is domino's pizza halal?\n",
      "sim:0.811 label:1 1.How can you determine the boiling point of a substance? 2.How do you calculate the boiling point of a substance?\n",
      "sim:0.785 label:1 1.How should I start learning Python? 2.How should I start learning Python for Data Science?\n",
      "sim:0.805 label:0 1.What individuals and events in history are a source of pride for Laos? 2.What individuals and events in history are a source of pride for Germany?\n",
      "sim:0.933 label:1 1.Why is human cloning considered unethical? 2.Why is cloning considered unethical?\n",
      "sim:0.368 label:1 1.What is the best way to teach your baby to read? 2.How do you teach a 4 year old toddler to read?\n",
      "sim:0.137 label:0 1.How do iPads get viruses? 2.How do you get rid of a virus on an iPhone?\n",
      "sim:0.004 label:0 1.Have you done lesbian sex with your mother? How does it feel afterwards? 2.Has anyone ever heard of a girl followed by interpol to find out her sexuality?\n",
      "sim:0.966 label:1 1.What are some cake ideas for a teenager? 2.What are some teenage cake ideas?\n",
      "sim:0.056 label:0 1.What are the features of mercantilism? 2.Why are import taxes bad for the economy?\n",
      "sim:0.780 label:1 1.How do I recover deleted files in an Android? 2.How do I recover deleted files on an Android phone or tablet?\n",
      "sim:0.388 label:0 1.Should I tell my baby that her dad never wanted her or even acknowledged that he is her father? 2.What should I do if my best friend tells me that she has never taken me seriously, even though I like her?\n",
      "sim:0.859 label:1 1.What is the best Hollywood movie of 2016 and why? 2.Which are the best Hollywood movies of 2016?\n",
      "sim:0.688 label:1 1.How does one avoid sleep? 2.How do I avoid sleep so much?\n",
      "sim:0.324 label:0 1.What should I ask my friend to get from UK to India? 2.What is the process of getting a surgical residency in UK after completing MBBS from India?\n",
      "sim:0.798 label:1 1.Do you think Arvind Kejriwal is corrupt ? Why or Why not ? 2.Is Arvind Kejriwal corrupt?\n",
      "sim:0.754 label:1 1.What are some ways to become an entrepreneur? 2.How do I become an entrepreneur?\n",
      "sim:0.357 label:0 1.Why does YouTube in iOS have a like button for comments while the Android version does not? 2.Is there an option in Android like double clicking the home button on an iOS device?\n",
      "sim:0.790 label:1 1.I want to become a billionaire, how do I become one? 2.How can I become a billionaire?\n",
      "sim:0.302 label:0 1.What is the answer to this trig substitution problem (x^4)? 2.What is the answer?\n",
      "sim:0.412 label:0 1.Why has Hong Kong taken so long to return Singapore Terrex vehicle? 2.What is it like to grow up in Japan, SIngapore and Hong Kong?\n",
      "sim:0.002 label:0 1.How does the Hague Convention apply on IPCA? 2.I am 15, and why do I feel compelled to learn skills (Programming, Calculus) and worry about my future?\n",
      "sim:0.138 label:0 1.Is it good to put CVT transmissions in an off-road car? 2.Which is a good car in the range of 2-3lacs on Delhi road?\n",
      "sim:0.000 label:0 1.Me and my girlfriend wish to go out and do 'stuff' and we have just public places to go to, where can we do it without anyone knowing? 2.Deleted.\n",
      "sim:0.430 label:1 1.How do I make my hair grow faster in 2 months? 2.How do I grow my hair really fast and easiest way?\n",
      "sim:0.736 label:0 1.Is it possible to find an ideal job? 2.How do I find the ideal job ?\n",
      "sim:0.380 label:1 1.What possible career would you get from graduating AB/BA Philosophy? 2.What are the career options after graduating with a B.A. in philosophy?\n",
      "sim:0.434 label:0 1.People who practice yoga for weight loss and toning, how long did it take you to see the results? 2.Which one give you a quick result gyming or yoga for weight loss?\n",
      "sim:0.424 label:0 1.What is labour welfare fund? 2.Is welfare a citizenship right?\n",
      "sim:0.661 label:1 1.Which cricketer has played from 2 countries? 2.Who are the cricketers who have played for 2 countries?\n",
      "sim:0.785 label:0 1.How do I find a spiritual guru in Louisiana? 2.How do you find a Spiritual Guru?\n",
      "sim:0.406 label:1 1.I started karting at 14. Can I still be a good Formula 1 driver? 2.How do I become a Formula One driver?\n",
      "sim:0.529 label:1 1.Which is the best Seo optimization services in India? 2.What is the best SEO management company in India?\n",
      "sim:0.258 label:0 1.Why do almost 99% of men in the world comb their hair in similar way (i.e. their hair going from left to right) and not the other way? 2.Does parting your hair one way or the other influence how others perceive you?\n"
     ]
    },
    {
     "ename": "KeyboardInterrupt",
     "evalue": "",
     "output_type": "error",
     "traceback": [
      "\u001b[0;31m---------------------------------------------------------------------------\u001b[0m",
      "\u001b[0;31mKeyboardInterrupt\u001b[0m                         Traceback (most recent call last)",
      "\u001b[0;32m<ipython-input-19-2db335bd8217>\u001b[0m in \u001b[0;36m<module>\u001b[0;34m()\u001b[0m\n\u001b[0;32m----> 1\u001b[0;31m \u001b[0mcalculate_similarity\u001b[0m\u001b[0;34m(\u001b[0m\u001b[0mquestions_tfidf\u001b[0m\u001b[0;34m)\u001b[0m\u001b[0;34m\u001b[0m\u001b[0m\n\u001b[0m",
      "\u001b[0;32m<ipython-input-18-da8e201b95fc>\u001b[0m in \u001b[0;36mcalculate_similarity\u001b[0;34m(vectors, verbose)\u001b[0m\n\u001b[1;32m      4\u001b[0m     \u001b[0;32mfor\u001b[0m \u001b[0mi\u001b[0m\u001b[0;34m,\u001b[0m \u001b[0mrow\u001b[0m \u001b[0;32min\u001b[0m \u001b[0mtqdm\u001b[0m\u001b[0;34m(\u001b[0m\u001b[0mtrain\u001b[0m\u001b[0;34m.\u001b[0m\u001b[0miterrows\u001b[0m\u001b[0;34m(\u001b[0m\u001b[0;34m)\u001b[0m\u001b[0;34m)\u001b[0m\u001b[0;34m:\u001b[0m\u001b[0;34m\u001b[0m\u001b[0m\n\u001b[1;32m      5\u001b[0m         \u001b[0;32mif\u001b[0m \u001b[0mrow\u001b[0m\u001b[0;34m[\u001b[0m\u001b[0;34m\"qid1\"\u001b[0m\u001b[0;34m]\u001b[0m \u001b[0;32min\u001b[0m \u001b[0mids\u001b[0m \u001b[0;32mand\u001b[0m \u001b[0mrow\u001b[0m\u001b[0;34m[\u001b[0m\u001b[0;34m\"qid2\"\u001b[0m\u001b[0;34m]\u001b[0m \u001b[0;32min\u001b[0m \u001b[0mids\u001b[0m\u001b[0;34m:\u001b[0m\u001b[0;34m\u001b[0m\u001b[0m\n\u001b[0;32m----> 6\u001b[0;31m             \u001b[0mpred\u001b[0m \u001b[0;34m=\u001b[0m \u001b[0mcosine_similarity\u001b[0m\u001b[0;34m(\u001b[0m\u001b[0mvectors\u001b[0m\u001b[0;34m[\u001b[0m\u001b[0mids\u001b[0m\u001b[0;34m[\u001b[0m\u001b[0mrow\u001b[0m\u001b[0;34m[\u001b[0m\u001b[0;34m\"qid1\"\u001b[0m\u001b[0;34m]\u001b[0m\u001b[0;34m]\u001b[0m\u001b[0;34m]\u001b[0m\u001b[0;34m,\u001b[0m \u001b[0mvectors\u001b[0m\u001b[0;34m[\u001b[0m\u001b[0mids\u001b[0m\u001b[0;34m[\u001b[0m\u001b[0mrow\u001b[0m\u001b[0;34m[\u001b[0m\u001b[0;34m\"qid2\"\u001b[0m\u001b[0;34m]\u001b[0m\u001b[0;34m]\u001b[0m\u001b[0;34m]\u001b[0m\u001b[0;34m)\u001b[0m\u001b[0;34m\u001b[0m\u001b[0m\n\u001b[0m\u001b[1;32m      7\u001b[0m             \u001b[0mlabel\u001b[0m \u001b[0;34m=\u001b[0m \u001b[0mrow\u001b[0m\u001b[0;34m[\u001b[0m\u001b[0;34m\"is_duplicate\"\u001b[0m\u001b[0;34m]\u001b[0m\u001b[0;34m\u001b[0m\u001b[0m\n\u001b[1;32m      8\u001b[0m             \u001b[0;32mif\u001b[0m \u001b[0mverbose\u001b[0m \u001b[0;32mand\u001b[0m \u001b[0mi\u001b[0m \u001b[0;34m%\u001b[0m \u001b[0;36m5000\u001b[0m \u001b[0;34m==\u001b[0m \u001b[0;36m0\u001b[0m\u001b[0;34m:\u001b[0m\u001b[0;34m\u001b[0m\u001b[0m\n",
      "\u001b[0;32m/Users/parkjiho/anaconda2/envs/tf/lib/python3.4/site-packages/sklearn/metrics/pairwise.py\u001b[0m in \u001b[0;36mcosine_similarity\u001b[0;34m(X, Y, dense_output)\u001b[0m\n\u001b[1;32m    916\u001b[0m         \u001b[0mY_normalized\u001b[0m \u001b[0;34m=\u001b[0m \u001b[0mnormalize\u001b[0m\u001b[0;34m(\u001b[0m\u001b[0mY\u001b[0m\u001b[0;34m,\u001b[0m \u001b[0mcopy\u001b[0m\u001b[0;34m=\u001b[0m\u001b[0;32mTrue\u001b[0m\u001b[0;34m)\u001b[0m\u001b[0;34m\u001b[0m\u001b[0m\n\u001b[1;32m    917\u001b[0m \u001b[0;34m\u001b[0m\u001b[0m\n\u001b[0;32m--> 918\u001b[0;31m     \u001b[0mK\u001b[0m \u001b[0;34m=\u001b[0m \u001b[0msafe_sparse_dot\u001b[0m\u001b[0;34m(\u001b[0m\u001b[0mX_normalized\u001b[0m\u001b[0;34m,\u001b[0m \u001b[0mY_normalized\u001b[0m\u001b[0;34m.\u001b[0m\u001b[0mT\u001b[0m\u001b[0;34m,\u001b[0m \u001b[0mdense_output\u001b[0m\u001b[0;34m=\u001b[0m\u001b[0mdense_output\u001b[0m\u001b[0;34m)\u001b[0m\u001b[0;34m\u001b[0m\u001b[0m\n\u001b[0m\u001b[1;32m    919\u001b[0m \u001b[0;34m\u001b[0m\u001b[0m\n\u001b[1;32m    920\u001b[0m     \u001b[0;32mreturn\u001b[0m \u001b[0mK\u001b[0m\u001b[0;34m\u001b[0m\u001b[0m\n",
      "\u001b[0;32m/Users/parkjiho/anaconda2/envs/tf/lib/python3.4/site-packages/sklearn/utils/extmath.py\u001b[0m in \u001b[0;36msafe_sparse_dot\u001b[0;34m(a, b, dense_output)\u001b[0m\n\u001b[1;32m    182\u001b[0m     \"\"\"\n\u001b[1;32m    183\u001b[0m     \u001b[0;32mif\u001b[0m \u001b[0missparse\u001b[0m\u001b[0;34m(\u001b[0m\u001b[0ma\u001b[0m\u001b[0;34m)\u001b[0m \u001b[0;32mor\u001b[0m \u001b[0missparse\u001b[0m\u001b[0;34m(\u001b[0m\u001b[0mb\u001b[0m\u001b[0;34m)\u001b[0m\u001b[0;34m:\u001b[0m\u001b[0;34m\u001b[0m\u001b[0m\n\u001b[0;32m--> 184\u001b[0;31m         \u001b[0mret\u001b[0m \u001b[0;34m=\u001b[0m \u001b[0ma\u001b[0m \u001b[0;34m*\u001b[0m \u001b[0mb\u001b[0m\u001b[0;34m\u001b[0m\u001b[0m\n\u001b[0m\u001b[1;32m    185\u001b[0m         \u001b[0;32mif\u001b[0m \u001b[0mdense_output\u001b[0m \u001b[0;32mand\u001b[0m \u001b[0mhasattr\u001b[0m\u001b[0;34m(\u001b[0m\u001b[0mret\u001b[0m\u001b[0;34m,\u001b[0m \u001b[0;34m\"toarray\"\u001b[0m\u001b[0;34m)\u001b[0m\u001b[0;34m:\u001b[0m\u001b[0;34m\u001b[0m\u001b[0m\n\u001b[1;32m    186\u001b[0m             \u001b[0mret\u001b[0m \u001b[0;34m=\u001b[0m \u001b[0mret\u001b[0m\u001b[0;34m.\u001b[0m\u001b[0mtoarray\u001b[0m\u001b[0;34m(\u001b[0m\u001b[0;34m)\u001b[0m\u001b[0;34m\u001b[0m\u001b[0m\n",
      "\u001b[0;32m/Users/parkjiho/anaconda2/envs/tf/lib/python3.4/site-packages/scipy/sparse/base.py\u001b[0m in \u001b[0;36m__mul__\u001b[0;34m(self, other)\u001b[0m\n\u001b[1;32m    351\u001b[0m             \u001b[0;32mif\u001b[0m \u001b[0mself\u001b[0m\u001b[0;34m.\u001b[0m\u001b[0mshape\u001b[0m\u001b[0;34m[\u001b[0m\u001b[0;36m1\u001b[0m\u001b[0;34m]\u001b[0m \u001b[0;34m!=\u001b[0m \u001b[0mother\u001b[0m\u001b[0;34m.\u001b[0m\u001b[0mshape\u001b[0m\u001b[0;34m[\u001b[0m\u001b[0;36m0\u001b[0m\u001b[0;34m]\u001b[0m\u001b[0;34m:\u001b[0m\u001b[0;34m\u001b[0m\u001b[0m\n\u001b[1;32m    352\u001b[0m                 \u001b[0;32mraise\u001b[0m \u001b[0mValueError\u001b[0m\u001b[0;34m(\u001b[0m\u001b[0;34m'dimension mismatch'\u001b[0m\u001b[0;34m)\u001b[0m\u001b[0;34m\u001b[0m\u001b[0m\n\u001b[0;32m--> 353\u001b[0;31m             \u001b[0;32mreturn\u001b[0m \u001b[0mself\u001b[0m\u001b[0;34m.\u001b[0m\u001b[0m_mul_sparse_matrix\u001b[0m\u001b[0;34m(\u001b[0m\u001b[0mother\u001b[0m\u001b[0;34m)\u001b[0m\u001b[0;34m\u001b[0m\u001b[0m\n\u001b[0m\u001b[1;32m    354\u001b[0m \u001b[0;34m\u001b[0m\u001b[0m\n\u001b[1;32m    355\u001b[0m         \u001b[0;32mtry\u001b[0m\u001b[0;34m:\u001b[0m\u001b[0;34m\u001b[0m\u001b[0m\n",
      "\u001b[0;32m/Users/parkjiho/anaconda2/envs/tf/lib/python3.4/site-packages/scipy/sparse/compressed.py\u001b[0m in \u001b[0;36m_mul_sparse_matrix\u001b[0;34m(self, other)\u001b[0m\n\u001b[1;32m    474\u001b[0m \u001b[0;34m\u001b[0m\u001b[0m\n\u001b[1;32m    475\u001b[0m         \u001b[0mmajor_axis\u001b[0m \u001b[0;34m=\u001b[0m \u001b[0mself\u001b[0m\u001b[0;34m.\u001b[0m\u001b[0m_swap\u001b[0m\u001b[0;34m(\u001b[0m\u001b[0;34m(\u001b[0m\u001b[0mM\u001b[0m\u001b[0;34m,\u001b[0m\u001b[0mN\u001b[0m\u001b[0;34m)\u001b[0m\u001b[0;34m)\u001b[0m\u001b[0;34m[\u001b[0m\u001b[0;36m0\u001b[0m\u001b[0;34m]\u001b[0m\u001b[0;34m\u001b[0m\u001b[0m\n\u001b[0;32m--> 476\u001b[0;31m         \u001b[0mother\u001b[0m \u001b[0;34m=\u001b[0m \u001b[0mself\u001b[0m\u001b[0;34m.\u001b[0m\u001b[0m__class__\u001b[0m\u001b[0;34m(\u001b[0m\u001b[0mother\u001b[0m\u001b[0;34m)\u001b[0m  \u001b[0;31m# convert to this format\u001b[0m\u001b[0;34m\u001b[0m\u001b[0m\n\u001b[0m\u001b[1;32m    477\u001b[0m \u001b[0;34m\u001b[0m\u001b[0m\n\u001b[1;32m    478\u001b[0m         idx_dtype = get_index_dtype((self.indptr, self.indices,\n",
      "\u001b[0;32m/Users/parkjiho/anaconda2/envs/tf/lib/python3.4/site-packages/scipy/sparse/compressed.py\u001b[0m in \u001b[0;36m__init__\u001b[0;34m(self, arg1, shape, dtype, copy)\u001b[0m\n\u001b[1;32m     29\u001b[0m                 \u001b[0marg1\u001b[0m \u001b[0;34m=\u001b[0m \u001b[0marg1\u001b[0m\u001b[0;34m.\u001b[0m\u001b[0mcopy\u001b[0m\u001b[0;34m(\u001b[0m\u001b[0;34m)\u001b[0m\u001b[0;34m\u001b[0m\u001b[0m\n\u001b[1;32m     30\u001b[0m             \u001b[0;32melse\u001b[0m\u001b[0;34m:\u001b[0m\u001b[0;34m\u001b[0m\u001b[0m\n\u001b[0;32m---> 31\u001b[0;31m                 \u001b[0marg1\u001b[0m \u001b[0;34m=\u001b[0m \u001b[0marg1\u001b[0m\u001b[0;34m.\u001b[0m\u001b[0masformat\u001b[0m\u001b[0;34m(\u001b[0m\u001b[0mself\u001b[0m\u001b[0;34m.\u001b[0m\u001b[0mformat\u001b[0m\u001b[0;34m)\u001b[0m\u001b[0;34m\u001b[0m\u001b[0m\n\u001b[0m\u001b[1;32m     32\u001b[0m             \u001b[0mself\u001b[0m\u001b[0;34m.\u001b[0m\u001b[0m_set_self\u001b[0m\u001b[0;34m(\u001b[0m\u001b[0marg1\u001b[0m\u001b[0;34m)\u001b[0m\u001b[0;34m\u001b[0m\u001b[0m\n\u001b[1;32m     33\u001b[0m \u001b[0;34m\u001b[0m\u001b[0m\n",
      "\u001b[0;32m/Users/parkjiho/anaconda2/envs/tf/lib/python3.4/site-packages/scipy/sparse/base.py\u001b[0m in \u001b[0;36masformat\u001b[0;34m(self, format)\u001b[0m\n\u001b[1;32m    252\u001b[0m             \u001b[0;32mreturn\u001b[0m \u001b[0mself\u001b[0m\u001b[0;34m\u001b[0m\u001b[0m\n\u001b[1;32m    253\u001b[0m         \u001b[0;32melse\u001b[0m\u001b[0;34m:\u001b[0m\u001b[0;34m\u001b[0m\u001b[0m\n\u001b[0;32m--> 254\u001b[0;31m             \u001b[0;32mreturn\u001b[0m \u001b[0mgetattr\u001b[0m\u001b[0;34m(\u001b[0m\u001b[0mself\u001b[0m\u001b[0;34m,\u001b[0m \u001b[0;34m'to'\u001b[0m \u001b[0;34m+\u001b[0m \u001b[0mformat\u001b[0m\u001b[0;34m)\u001b[0m\u001b[0;34m(\u001b[0m\u001b[0;34m)\u001b[0m\u001b[0;34m\u001b[0m\u001b[0m\n\u001b[0m\u001b[1;32m    255\u001b[0m \u001b[0;34m\u001b[0m\u001b[0m\n\u001b[1;32m    256\u001b[0m     \u001b[0;31m###################################################################\u001b[0m\u001b[0;34m\u001b[0m\u001b[0;34m\u001b[0m\u001b[0m\n",
      "\u001b[0;32m/Users/parkjiho/anaconda2/envs/tf/lib/python3.4/site-packages/scipy/sparse/csc.py\u001b[0m in \u001b[0;36mtocsr\u001b[0;34m(self, copy)\u001b[0m\n\u001b[1;32m    151\u001b[0m                   \u001b[0mindptr\u001b[0m\u001b[0;34m,\u001b[0m\u001b[0;34m\u001b[0m\u001b[0m\n\u001b[1;32m    152\u001b[0m                   \u001b[0mindices\u001b[0m\u001b[0;34m,\u001b[0m\u001b[0;34m\u001b[0m\u001b[0m\n\u001b[0;32m--> 153\u001b[0;31m                   data)\n\u001b[0m\u001b[1;32m    154\u001b[0m \u001b[0;34m\u001b[0m\u001b[0m\n\u001b[1;32m    155\u001b[0m         \u001b[0;32mfrom\u001b[0m \u001b[0;34m.\u001b[0m\u001b[0mcsr\u001b[0m \u001b[0;32mimport\u001b[0m \u001b[0mcsr_matrix\u001b[0m\u001b[0;34m\u001b[0m\u001b[0m\n",
      "\u001b[0;31mKeyboardInterrupt\u001b[0m: "
     ]
    }
   ],
   "source": [
    "calculate_similarity(questions_tfidf)"
   ]
  },
  {
   "cell_type": "code",
   "execution_count": null,
   "metadata": {
    "collapsed": true
   },
   "outputs": [],
   "source": []
  }
 ],
 "metadata": {
  "anaconda-cloud": {},
  "kernelspec": {
   "display_name": "Python [conda env:tf]",
   "language": "python",
   "name": "conda-env-tf-py"
  },
  "language_info": {
   "codemirror_mode": {
    "name": "ipython",
    "version": 3
   },
   "file_extension": ".py",
   "mimetype": "text/x-python",
   "name": "python",
   "nbconvert_exporter": "python",
   "pygments_lexer": "ipython3",
   "version": "3.4.5"
  },
  "widgets": {
   "state": {
    "3dda13fe0b674afbbd984ebd3cdf3c8e": {
     "views": [
      {
       "cell_index": 16
      }
     ]
    },
    "45f02b182eed48a8bf13d62fce46dd53": {
     "views": [
      {
       "cell_index": 5
      }
     ]
    }
   },
   "version": "1.2.0"
  }
 },
 "nbformat": 4,
 "nbformat_minor": 1
}
